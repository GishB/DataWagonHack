{
 "cells": [
  {
   "cell_type": "code",
   "execution_count": null,
   "id": "e9471a4e",
   "metadata": {},
   "outputs": [],
   "source": [
    "import numpy as np\n",
    "import pandas as pd\n",
    "\n",
    "from sklearn.cluster import KMeans\n",
    "from scipy.stats import linregress\n",
    "\n",
    "import plotly.io as pio\n",
    "import plotly.express as px\n",
    "pio.templates.default = \"plotly_white\""
   ]
  },
  {
   "cell_type": "code",
   "execution_count": null,
   "id": "1d307e86",
   "metadata": {},
   "outputs": [],
   "source": []
  },
  {
   "cell_type": "code",
   "execution_count": null,
   "id": "650f6688",
   "metadata": {},
   "outputs": [],
   "source": [
    "def add_master_data_mappings(df: pd.DataFrame) -> pd.DataFrame:  \n",
    "    # = Пути к справочникам - откорректировать если в реальной системе будут лежать по другому адресу =\n",
    "    client_mapping_file = \"data/client_mapping.csv\"\n",
    "    freight_mapping_file = \"data/freight_mapping.csv\"\n",
    "    station_mapping_file = \"data/station_mapping.csv\"\n",
    "\n",
    "    # Клиент - холдинг\n",
    "    client_mapping = pd.read_csv(\n",
    "        client_mapping_file,\n",
    "        sep=\";\",\n",
    "        decimal=\",\",\n",
    "        encoding=\"windows-1251\",\n",
    "    )\n",
    "    df = pd.merge(df, client_mapping, how=\"left\", on=\"client_sap_id\")\n",
    "\n",
    "    # Груз\n",
    "    freight_mapping = pd.read_csv(\n",
    "        freight_mapping_file, sep=\";\", decimal=\",\", encoding=\"windows-1251\"\n",
    "    )\n",
    "    df = pd.merge(df, freight_mapping, how=\"left\", on=\"freight_id\")\n",
    "\n",
    "    # Станции\n",
    "    station_mapping = pd.read_csv(\n",
    "        station_mapping_file,\n",
    "        sep=\";\",\n",
    "        decimal=\",\",\n",
    "        encoding=\"windows-1251\",\n",
    "    )\n",
    "    df = pd.merge(\n",
    "        df,\n",
    "        station_mapping.add_prefix(\"sender_\"),\n",
    "        how=\"left\",\n",
    "        on=\"sender_station_id\",\n",
    "    )\n",
    "    df = pd.merge(\n",
    "        df,\n",
    "        station_mapping.add_prefix(\"recipient_\"),\n",
    "        how=\"left\",\n",
    "        on=\"recipient_station_id\",\n",
    "    )\n",
    "    \n",
    "    df[\"holding_name\"] = df[\"holding_name\"].fillna(-1)\n",
    "    return df"
   ]
  },
  {
   "cell_type": "code",
   "execution_count": null,
   "id": "814bb067",
   "metadata": {},
   "outputs": [],
   "source": [
    "df = pd.read_csv(\"data/fact_train_test.csv\", sep=\";\", decimal=\",\", encoding=\"windows-1251\")\n",
    "df = add_master_data_mappings(df)\n",
    "\n",
    "df[\"month\"] = df[\"period\"].str[5:7].astype(int)\n",
    "df[\"year\"] = df[\"period\"].str[0:4].astype(int)\n",
    "\n",
    "# Берем данные с 2021, для удобства обрежем сразу все данные\n",
    "# df = df[ df[\"year\"] >= 2021 ]"
   ]
  },
  {
   "cell_type": "code",
   "execution_count": null,
   "id": "a86cab9d",
   "metadata": {},
   "outputs": [],
   "source": [
    "# Признаки, по которым группируем при вычислении метрики\n",
    "group_vars = [\n",
    "    \"period\",\n",
    "    \"rps\",\n",
    "    \"holding_name\",\n",
    "    \"sender_department_name\",\n",
    "    \"recipient_department_name\",\n",
    "]\n",
    "\n",
    "grouped = df.groupby(group_vars, as_index=False).agg({\"real_wagon_count\": \"sum\", \"real_weight\": \"sum\"})\n",
    "# grouped[\"real_density\"] = grouped[\"real_weight\"] / grouped[\"real_wagon_count\"]"
   ]
  },
  {
   "cell_type": "code",
   "execution_count": null,
   "id": "e22c2308",
   "metadata": {},
   "outputs": [],
   "source": []
  },
  {
   "cell_type": "code",
   "execution_count": null,
   "id": "9db1a3af",
   "metadata": {},
   "outputs": [],
   "source": []
  },
  {
   "cell_type": "code",
   "execution_count": null,
   "id": "03b47e10",
   "metadata": {
    "scrolled": false
   },
   "outputs": [],
   "source": [
    "# means = []\n",
    "# stds = []\n",
    "# r2s = []\n",
    "# slopes = []\n",
    "\n",
    "# for i in range(25):\n",
    "    \n",
    "#     row = grouped.sample(1).T.squeeze().to_dict()\n",
    "\n",
    "#     a = grouped[(\n",
    "#         (grouped[\"rps\"] == row[\"rps\"]) &\n",
    "#         (grouped[\"holding_name\"] == row[\"holding_name\"]) &\n",
    "#         (grouped[\"sender_department_name\"] == row[\"sender_department_name\"]) &\n",
    "#         (grouped[\"recipient_department_name\"] == row[\"recipient_department_name\"])\n",
    "#     )].sort_values(\"period\")\n",
    "    \n",
    "#     if len(a) < 10:\n",
    "#         print('---')\n",
    "    \n",
    "#     a[\"pred\"] = a.tail(10)[\"real_wagon_count\"].mean()\n",
    "    \n",
    "#     print(row)\n",
    "#     fig = px.line(a, x=\"period\", y=[\"real_wagon_count\", \"pred\"])\n",
    "#     fig.update_layout(showlegend=False)\n",
    "#     fig.show()\n",
    "    \n",
    "#     means.append( a[\"real_wagon_count\"].mean() )\n",
    "#     stds.append( a[\"real_wagon_count\"].std() )\n",
    "#     r2s.append( trend.rvalue )\n",
    "#     slopes.append( trend.slope )"
   ]
  },
  {
   "cell_type": "code",
   "execution_count": null,
   "id": "4cae28ab",
   "metadata": {},
   "outputs": [],
   "source": []
  },
  {
   "cell_type": "markdown",
   "id": "1b280740",
   "metadata": {},
   "source": [
    "# Median2021 submit"
   ]
  },
  {
   "cell_type": "code",
   "execution_count": null,
   "id": "28c26c4c",
   "metadata": {},
   "outputs": [],
   "source": [
    "print(group_vars)"
   ]
  },
  {
   "cell_type": "code",
   "execution_count": null,
   "id": "f010a58a",
   "metadata": {},
   "outputs": [],
   "source": [
    "# За основу возьмем их сабмит\n",
    "df_medians = pd.read_csv(\"data/forecast_example.csv\", sep=\";\", decimal=\",\", encoding=\"windows-1251\")\n",
    "original_columns = df_medians.columns\n",
    "\n",
    "df_medians = add_master_data_mappings(df_medians)\n",
    "# Оставим только уникальные строчки по хэшам\n",
    "df_medians = df_medians.drop_duplicates(subset=group_vars)\n",
    "df_medians = df_medians.drop(columns=[\"forecast_weight\", \"forecast_wagon_count\"])"
   ]
  },
  {
   "cell_type": "code",
   "execution_count": null,
   "id": "40a29823",
   "metadata": {},
   "outputs": [],
   "source": [
    "df_medians"
   ]
  },
  {
   "cell_type": "code",
   "execution_count": null,
   "id": "5f88eb66",
   "metadata": {},
   "outputs": [],
   "source": [
    "list_count = []\n",
    "list_weight = []\n",
    "\n",
    "for i, (period, rps, holding_name, sender_department_name, recipient_department_name) in enumerate(df_medians[group_vars].values):\n",
    "    if i % 100 == 0:\n",
    "        print(i, end=\"\\r\")\n",
    "        \n",
    "    a = grouped[(\n",
    "        (grouped[\"rps\"] == rps) &\n",
    "        (grouped[\"holding_name\"] == holding_name) &\n",
    "        (grouped[\"sender_department_name\"] == sender_department_name) &\n",
    "        (grouped[\"recipient_department_name\"] == recipient_department_name)\n",
    "    )].sort_values(\"period\")\n",
    "    \n",
    "    if len(a) >= 10:\n",
    "        list_count.append( a.tail(10)[\"real_wagon_count\"].mean() )\n",
    "        list_weight.append( a.tail(10)[\"real_weight\"].mean() )\n",
    "    else:\n",
    "        list_count.append( a[\"real_wagon_count\"].mean() )\n",
    "        list_weight.append( a[\"real_weight\"].mean() )\n",
    "    \n",
    "df_medians[\"forecast_wagon_count\"] = list_count\n",
    "df_medians[\"forecast_weight\"] = list_weight"
   ]
  },
  {
   "cell_type": "code",
   "execution_count": null,
   "id": "ad755b57",
   "metadata": {},
   "outputs": [],
   "source": []
  },
  {
   "cell_type": "code",
   "execution_count": null,
   "id": "afb1f02c",
   "metadata": {},
   "outputs": [],
   "source": []
  },
  {
   "cell_type": "code",
   "execution_count": null,
   "id": "40e1939e",
   "metadata": {},
   "outputs": [],
   "source": [
    "df_medians[original_columns].to_csv(\"submits/10_last_mean.csv\", index=False, sep=\";\", decimal=\",\", encoding=\"windows-1251\")"
   ]
  },
  {
   "cell_type": "code",
   "execution_count": null,
   "id": "856b9d9e",
   "metadata": {},
   "outputs": [],
   "source": []
  },
  {
   "cell_type": "code",
   "execution_count": null,
   "id": "aa2a86a8",
   "metadata": {},
   "outputs": [],
   "source": []
  },
  {
   "cell_type": "code",
   "execution_count": null,
   "id": "7190bab7",
   "metadata": {},
   "outputs": [],
   "source": []
  }
 ],
 "metadata": {
  "kernelspec": {
   "display_name": "Python 3 (ipykernel)",
   "language": "python",
   "name": "python3"
  },
  "language_info": {
   "codemirror_mode": {
    "name": "ipython",
    "version": 3
   },
   "file_extension": ".py",
   "mimetype": "text/x-python",
   "name": "python",
   "nbconvert_exporter": "python",
   "pygments_lexer": "ipython3",
   "version": "3.10.9"
  }
 },
 "nbformat": 4,
 "nbformat_minor": 5
}
