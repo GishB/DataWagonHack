{
 "cells": [
  {
   "cell_type": "markdown",
   "id": "eaa9b53a",
   "metadata": {},
   "source": [
    "# Import libs"
   ]
  },
  {
   "cell_type": "code",
   "execution_count": 4,
   "id": "fa16f9b9",
   "metadata": {},
   "outputs": [],
   "source": [
    "import pandas as pd\n",
    "import numpy as np\n",
    "\n",
    "import matplotlib.pyplot as plt\n",
    "import seaborn as sns\n",
    "\n",
    "from catboost import CatBoostRegressor\n",
    "\n",
    "import os, sys\n",
    "sys.path.append(\"../..\")\n",
    "\n",
    "import warnings\n",
    "warnings.filterwarnings(\"ignore\")"
   ]
  },
  {
   "cell_type": "markdown",
   "id": "7a26bc3a",
   "metadata": {},
   "source": [
    "# Import Data"
   ]
  },
  {
   "cell_type": "markdown",
   "id": "106d075b",
   "metadata": {},
   "source": [
    "#### define paths"
   ]
  },
  {
   "cell_type": "code",
   "execution_count": 5,
   "id": "fb85c37c",
   "metadata": {},
   "outputs": [],
   "source": [
    "path_hash_data = \"../../data/HASH_and_target_time_series.parquet\"\n",
    "path_centrobank_data = \"../../data/Kluch_stavka_and_Inflation.csv\"\n",
    "path_rub_to_usd_and_yuan_data = \"../../data/kurs_rub_to_usd_and_uan.csv\"\n",
    "path_urals_in_usd_data = \"../../data/urals_oil_price.csv\""
   ]
  },
  {
   "cell_type": "markdown",
   "id": "0a774932",
   "metadata": {},
   "source": [
    "#### load datasets"
   ]
  },
  {
   "cell_type": "code",
   "execution_count": 6,
   "id": "3afeac56",
   "metadata": {},
   "outputs": [],
   "source": [
    "df_hash_data = pd.read_parquet(path_hash_data)\n",
    "# df_centrobank_data = pd.read_csv(path_centrobank_data, sep=\";\")\n",
    "df_curs_data = pd.read_csv(path_rub_to_usd_and_yuan_data)\n",
    "df_urals_money_data = pd.read_csv(path_urals_in_usd_data)"
   ]
  },
  {
   "cell_type": "code",
   "execution_count": 7,
   "id": "3fa96cf2",
   "metadata": {},
   "outputs": [],
   "source": [
    "df_curs_data.index = pd.to_datetime(df_curs_data.data, yearfirst=True)\n",
    "df_curs_data = df_curs_data.drop(axis=1, columns=['data'])"
   ]
  },
  {
   "cell_type": "code",
   "execution_count": 8,
   "id": "37323b6e",
   "metadata": {},
   "outputs": [],
   "source": [
    "df_urals_money_data.index = pd.to_datetime(df_urals_money_data.data, dayfirst=True)\n",
    "df_urals_money_data = df_urals_money_data.drop(axis=1, columns=[\"data\"])"
   ]
  },
  {
   "cell_type": "code",
   "execution_count": 10,
   "id": "082e15aa",
   "metadata": {},
   "outputs": [],
   "source": [
    "df_additional_features = pd.merge(df_urals_money_data, df_curs_data, left_index=True, right_index=True)"
   ]
  },
  {
   "cell_type": "code",
   "execution_count": 11,
   "id": "53bb8751",
   "metadata": {},
   "outputs": [],
   "source": [
    "df_additional_features = df_additional_features.rename(columns={\"price\": \"price_urals_usd\"})"
   ]
  },
  {
   "cell_type": "code",
   "execution_count": 12,
   "id": "72cab2d8",
   "metadata": {},
   "outputs": [],
   "source": [
    "df = pd.merge(df_hash_data, df_additional_features, left_index=True, right_index=True)"
   ]
  },
  {
   "cell_type": "code",
   "execution_count": null,
   "id": "c47512a9",
   "metadata": {},
   "outputs": [],
   "source": []
  }
 ],
 "metadata": {
  "kernelspec": {
   "display_name": "Python 3 (ipykernel)",
   "language": "python",
   "name": "python3"
  },
  "language_info": {
   "codemirror_mode": {
    "name": "ipython",
    "version": 3
   },
   "file_extension": ".py",
   "mimetype": "text/x-python",
   "name": "python",
   "nbconvert_exporter": "python",
   "pygments_lexer": "ipython3",
   "version": "3.10.12"
  }
 },
 "nbformat": 4,
 "nbformat_minor": 5
}
